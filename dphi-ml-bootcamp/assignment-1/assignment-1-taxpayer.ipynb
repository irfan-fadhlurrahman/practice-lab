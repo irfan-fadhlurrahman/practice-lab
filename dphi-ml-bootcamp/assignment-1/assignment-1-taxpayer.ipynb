{
 "cells": [
  {
   "cell_type": "markdown",
   "id": "7c7fa513-d9a3-46e7-bb32-a405ada8be2b",
   "metadata": {},
   "source": [
    "# Assignment 1: Taxpayer's Political Party"
   ]
  },
  {
   "cell_type": "markdown",
   "id": "54b1020e-e2e5-463d-8900-69a109f23597",
   "metadata": {},
   "source": [
    "## Objective"
   ]
  },
  {
   "cell_type": "markdown",
   "id": "a5ae079e-abee-4168-b319-1fb33bcdb7f2",
   "metadata": {},
   "source": [
    "The aim of this project to predict the taxpayer political party based on their attributes. We will use accuracy to evaluate the model performance."
   ]
  },
  {
   "cell_type": "markdown",
   "id": "142bb475-7320-4314-8ddc-da3f5a529c8c",
   "metadata": {},
   "source": [
    "## Data Source and Variables Description"
   ]
  },
  {
   "cell_type": "markdown",
   "id": "8c4bf677-5847-45dd-86ab-da2896901256",
   "metadata": {},
   "source": [
    "The dataset can be downloaded from this [link](https://dphi.tech/challenges/taxpayers-political-party/50/leaderboard/practice/). The following are variables description.\n",
    "* **HHI**: Household income\n",
    "\n",
    "* **HHDL**: Household debt level\n",
    "\n",
    "* **Married**: There are three categories for a taxpayer 0, 1, 2 with regards to marriage.\n",
    "\n",
    "* **PoliticalParty**: Name of the political party\n",
    "\n",
    "* **CollegeGrads**: Grade in College out of 5\n",
    "\n",
    "* **AHHAge**: Average household age\n",
    "\n",
    "* **Cars**: number of cars in house\n",
    "\n",
    "* **Filed in YYYY**: Tax filed in given year YYYY"
   ]
  },
  {
   "cell_type": "markdown",
   "id": "632142ee-eb65-4f46-ac18-811e373d8832",
   "metadata": {},
   "source": [
    "## Dependencies"
   ]
  },
  {
   "cell_type": "code",
   "execution_count": 1,
   "id": "895f9ef4-6ee3-41fc-a8e0-7181779302c7",
   "metadata": {},
   "outputs": [
    {
     "name": "stdout",
     "output_type": "stream",
     "text": [
      "Packages Version\n",
      "pandas: 1.1.5\n",
      "numpy: 1.19.5\n",
      "inflection: 0.5.1\n",
      "category_encoders: 2.4.0\n",
      "scikit-learn: 1.0.2\n",
      "xgboost: 0.90\n"
     ]
    }
   ],
   "source": [
    "import pandas as pd\n",
    "import numpy as np\n",
    "import matplotlib.pyplot as plt\n",
    "import seaborn as sns\n",
    "import inflection\n",
    "import category_encoders\n",
    "import sklearn\n",
    "import xgboost\n",
    "\n",
    "from category_encoders import TargetEncoder\n",
    "from sklearn.model_selection import KFold\n",
    "from sklearn.model_selection import cross_validate\n",
    "from sklearn.preprocessing import MinMaxScaler\n",
    "from sklearn.pipeline import make_pipeline\n",
    "\n",
    "from sklearn.linear_model import LogisticRegression\n",
    "from sklearn.neighbors import KNeighborsClassifier\n",
    "from sklearn.tree import DecisionTreeClassifier\n",
    "from sklearn.ensemble import RandomForestClassifier\n",
    "from sklearn.ensemble import GradientBoostingClassifier\n",
    "from sklearn.ensemble import VotingClassifier\n",
    "from xgboost import XGBClassifier\n",
    "\n",
    "from sklearn.metrics import accuracy_score\n",
    "\n",
    "colors = ['#99d594', '#D53E4F', '#FC8D59']\n",
    "\n",
    "print(\"Packages Version\")\n",
    "print(f\"pandas: {pd.__version__}\")\n",
    "print(f\"numpy: {np.__version__}\")\n",
    "print(f\"inflection: {inflection.__version__}\")\n",
    "print(f\"category_encoders: {category_encoders.__version__}\")\n",
    "print(f\"scikit-learn: {sklearn.__version__}\")\n",
    "print(f\"xgboost: {xgboost.__version__}\")"
   ]
  },
  {
   "cell_type": "code",
   "execution_count": 2,
   "id": "b9f7c605-3387-40ea-8f0c-1be9fdd53b60",
   "metadata": {},
   "outputs": [
    {
     "data": {
      "text/plain": [
       "(803, 11)"
      ]
     },
     "metadata": {},
     "output_type": "display_data"
    },
    {
     "data": {
      "text/html": [
       "<div>\n",
       "<style scoped>\n",
       "    .dataframe tbody tr th:only-of-type {\n",
       "        vertical-align: middle;\n",
       "    }\n",
       "\n",
       "    .dataframe tbody tr th {\n",
       "        vertical-align: top;\n",
       "    }\n",
       "\n",
       "    .dataframe thead th {\n",
       "        text-align: right;\n",
       "    }\n",
       "</style>\n",
       "<table border=\"1\" class=\"dataframe\">\n",
       "  <thead>\n",
       "    <tr style=\"text-align: right;\">\n",
       "      <th></th>\n",
       "      <th>Unnamed: 0</th>\n",
       "      <th>HHI</th>\n",
       "      <th>HHDL</th>\n",
       "      <th>Married</th>\n",
       "      <th>CollegGrads</th>\n",
       "      <th>AHHAge</th>\n",
       "      <th>Cars</th>\n",
       "      <th>Filed in 2017</th>\n",
       "      <th>Filed in 2016</th>\n",
       "      <th>Filed in 2015</th>\n",
       "      <th>PoliticalParty</th>\n",
       "    </tr>\n",
       "  </thead>\n",
       "  <tbody>\n",
       "    <tr>\n",
       "      <th>0</th>\n",
       "      <td>61</td>\n",
       "      <td>183414</td>\n",
       "      <td>-12402</td>\n",
       "      <td>1</td>\n",
       "      <td>2</td>\n",
       "      <td>28</td>\n",
       "      <td>1</td>\n",
       "      <td>0</td>\n",
       "      <td>0</td>\n",
       "      <td>1</td>\n",
       "      <td>Democrat</td>\n",
       "    </tr>\n",
       "    <tr>\n",
       "      <th>1</th>\n",
       "      <td>501</td>\n",
       "      <td>129786</td>\n",
       "      <td>700251</td>\n",
       "      <td>2</td>\n",
       "      <td>5</td>\n",
       "      <td>63</td>\n",
       "      <td>3</td>\n",
       "      <td>0</td>\n",
       "      <td>0</td>\n",
       "      <td>0</td>\n",
       "      <td>Republican</td>\n",
       "    </tr>\n",
       "    <tr>\n",
       "      <th>2</th>\n",
       "      <td>658</td>\n",
       "      <td>268343</td>\n",
       "      <td>493411</td>\n",
       "      <td>2</td>\n",
       "      <td>4</td>\n",
       "      <td>44</td>\n",
       "      <td>1</td>\n",
       "      <td>1</td>\n",
       "      <td>0</td>\n",
       "      <td>1</td>\n",
       "      <td>Independent</td>\n",
       "    </tr>\n",
       "    <tr>\n",
       "      <th>3</th>\n",
       "      <td>703</td>\n",
       "      <td>290506</td>\n",
       "      <td>-433408</td>\n",
       "      <td>1</td>\n",
       "      <td>1</td>\n",
       "      <td>28</td>\n",
       "      <td>5</td>\n",
       "      <td>1</td>\n",
       "      <td>0</td>\n",
       "      <td>1</td>\n",
       "      <td>Republican</td>\n",
       "    </tr>\n",
       "    <tr>\n",
       "      <th>4</th>\n",
       "      <td>702</td>\n",
       "      <td>90108</td>\n",
       "      <td>907135</td>\n",
       "      <td>1</td>\n",
       "      <td>3</td>\n",
       "      <td>57</td>\n",
       "      <td>5</td>\n",
       "      <td>1</td>\n",
       "      <td>1</td>\n",
       "      <td>0</td>\n",
       "      <td>Democrat</td>\n",
       "    </tr>\n",
       "  </tbody>\n",
       "</table>\n",
       "</div>"
      ],
      "text/plain": [
       "   Unnamed: 0     HHI    HHDL  Married  CollegGrads  AHHAge  Cars  \\\n",
       "0          61  183414  -12402        1            2      28     1   \n",
       "1         501  129786  700251        2            5      63     3   \n",
       "2         658  268343  493411        2            4      44     1   \n",
       "3         703  290506 -433408        1            1      28     5   \n",
       "4         702   90108  907135        1            3      57     5   \n",
       "\n",
       "   Filed in 2017  Filed in 2016  Filed in 2015 PoliticalParty  \n",
       "0              0              0              1       Democrat  \n",
       "1              0              0              0     Republican  \n",
       "2              1              0              1    Independent  \n",
       "3              1              0              1     Republican  \n",
       "4              1              1              0       Democrat  "
      ]
     },
     "metadata": {},
     "output_type": "display_data"
    }
   ],
   "source": [
    "full_train = pd.read_csv(\"../input/taxpayer-political-party/train_set_label.csv\")\n",
    "display(\n",
    "    full_train.shape, \n",
    "    full_train.head()\n",
    ")"
   ]
  },
  {
   "cell_type": "markdown",
   "id": "34afc06b-af6b-48ed-b560-5252dc37c61b",
   "metadata": {},
   "source": [
    "Observations:\n",
    "* Train dataset has 803 observations with 11 columns which consist of 1 unique identifier, 3 numerical features, 5 categorical features and 1 target variable.\n",
    "* The target variables has three classes which are Democrat, Republican, and Independent, so this is a multi-class classification task."
   ]
  },
  {
   "cell_type": "markdown",
   "id": "bc6d9818-b85f-45f8-a4b4-30d7e015731f",
   "metadata": {
    "tags": []
   },
   "source": [
    "## Exploratory Data Analysis"
   ]
  },
  {
   "cell_type": "markdown",
   "id": "6311a54b-7aa5-4d98-b7df-d6cc39f9a066",
   "metadata": {},
   "source": [
    "### Check duplicate data"
   ]
  },
  {
   "cell_type": "code",
   "execution_count": 5,
   "id": "18984540-2845-4dc3-ab8c-464a6ace4ce5",
   "metadata": {},
   "outputs": [
    {
     "data": {
      "text/html": [
       "<div>\n",
       "<style scoped>\n",
       "    .dataframe tbody tr th:only-of-type {\n",
       "        vertical-align: middle;\n",
       "    }\n",
       "\n",
       "    .dataframe tbody tr th {\n",
       "        vertical-align: top;\n",
       "    }\n",
       "\n",
       "    .dataframe thead th {\n",
       "        text-align: right;\n",
       "    }\n",
       "</style>\n",
       "<table border=\"1\" class=\"dataframe\">\n",
       "  <thead>\n",
       "    <tr style=\"text-align: right;\">\n",
       "      <th></th>\n",
       "      <th>Unnamed: 0</th>\n",
       "      <th>HHI</th>\n",
       "      <th>HHDL</th>\n",
       "      <th>Married</th>\n",
       "      <th>CollegGrads</th>\n",
       "      <th>AHHAge</th>\n",
       "      <th>Cars</th>\n",
       "      <th>Filed in 2017</th>\n",
       "      <th>Filed in 2016</th>\n",
       "      <th>Filed in 2015</th>\n",
       "      <th>PoliticalParty</th>\n",
       "    </tr>\n",
       "  </thead>\n",
       "  <tbody>\n",
       "  </tbody>\n",
       "</table>\n",
       "</div>"
      ],
      "text/plain": [
       "Empty DataFrame\n",
       "Columns: [Unnamed: 0, HHI, HHDL, Married, CollegGrads, AHHAge, Cars, Filed in 2017, Filed in 2016, Filed in 2015, PoliticalParty]\n",
       "Index: []"
      ]
     },
     "execution_count": 5,
     "metadata": {},
     "output_type": "execute_result"
    }
   ],
   "source": [
    "full_train[full_train.duplicated(keep=False)]"
   ]
  },
  {
   "cell_type": "markdown",
   "id": "b7ef83a0-ef96-4b20-8fdd-185dd5e17ed8",
   "metadata": {},
   "source": [
    "The dataset do not have duplicate data."
   ]
  },
  {
   "cell_type": "markdown",
   "id": "114b4ac5-6f60-46bc-8474-e04590bc0c67",
   "metadata": {},
   "source": [
    "### Descriptive Statistics"
   ]
  },
  {
   "cell_type": "code",
   "execution_count": 13,
   "id": "5b5c7b63-8be4-4cb1-8514-807133b8ed13",
   "metadata": {},
   "outputs": [
    {
     "data": {
      "text/html": [
       "<div>\n",
       "<style scoped>\n",
       "    .dataframe tbody tr th:only-of-type {\n",
       "        vertical-align: middle;\n",
       "    }\n",
       "\n",
       "    .dataframe tbody tr th {\n",
       "        vertical-align: top;\n",
       "    }\n",
       "\n",
       "    .dataframe thead th {\n",
       "        text-align: right;\n",
       "    }\n",
       "</style>\n",
       "<table border=\"1\" class=\"dataframe\">\n",
       "  <thead>\n",
       "    <tr style=\"text-align: right;\">\n",
       "      <th></th>\n",
       "      <th>Unnamed: 0</th>\n",
       "      <th>HHI</th>\n",
       "      <th>HHDL</th>\n",
       "      <th>Married</th>\n",
       "      <th>CollegGrads</th>\n",
       "      <th>AHHAge</th>\n",
       "      <th>Cars</th>\n",
       "      <th>Filed in 2017</th>\n",
       "      <th>Filed in 2016</th>\n",
       "      <th>Filed in 2015</th>\n",
       "    </tr>\n",
       "  </thead>\n",
       "  <tbody>\n",
       "    <tr>\n",
       "      <th>count</th>\n",
       "      <td>803.00</td>\n",
       "      <td>803.00</td>\n",
       "      <td>803.00</td>\n",
       "      <td>803.00</td>\n",
       "      <td>803.00</td>\n",
       "      <td>803.00</td>\n",
       "      <td>803.00</td>\n",
       "      <td>803.00</td>\n",
       "      <td>803.00</td>\n",
       "      <td>803.00</td>\n",
       "    </tr>\n",
       "    <tr>\n",
       "      <th>mean</th>\n",
       "      <td>502.24</td>\n",
       "      <td>155402.69</td>\n",
       "      <td>-15351.25</td>\n",
       "      <td>0.97</td>\n",
       "      <td>2.61</td>\n",
       "      <td>60.56</td>\n",
       "      <td>2.44</td>\n",
       "      <td>0.51</td>\n",
       "      <td>0.51</td>\n",
       "      <td>0.52</td>\n",
       "    </tr>\n",
       "    <tr>\n",
       "      <th>std</th>\n",
       "      <td>288.46</td>\n",
       "      <td>86788.15</td>\n",
       "      <td>595184.30</td>\n",
       "      <td>0.80</td>\n",
       "      <td>1.68</td>\n",
       "      <td>25.07</td>\n",
       "      <td>1.70</td>\n",
       "      <td>0.50</td>\n",
       "      <td>0.50</td>\n",
       "      <td>0.50</td>\n",
       "    </tr>\n",
       "    <tr>\n",
       "      <th>min</th>\n",
       "      <td>1.00</td>\n",
       "      <td>185.00</td>\n",
       "      <td>-999994.00</td>\n",
       "      <td>0.00</td>\n",
       "      <td>0.00</td>\n",
       "      <td>18.00</td>\n",
       "      <td>0.00</td>\n",
       "      <td>0.00</td>\n",
       "      <td>0.00</td>\n",
       "      <td>0.00</td>\n",
       "    </tr>\n",
       "    <tr>\n",
       "      <th>25%</th>\n",
       "      <td>254.50</td>\n",
       "      <td>82373.00</td>\n",
       "      <td>-516765.00</td>\n",
       "      <td>0.00</td>\n",
       "      <td>1.00</td>\n",
       "      <td>38.00</td>\n",
       "      <td>1.00</td>\n",
       "      <td>0.00</td>\n",
       "      <td>0.00</td>\n",
       "      <td>0.00</td>\n",
       "    </tr>\n",
       "    <tr>\n",
       "      <th>50%</th>\n",
       "      <td>501.00</td>\n",
       "      <td>156542.00</td>\n",
       "      <td>-24440.00</td>\n",
       "      <td>1.00</td>\n",
       "      <td>3.00</td>\n",
       "      <td>60.00</td>\n",
       "      <td>2.00</td>\n",
       "      <td>1.00</td>\n",
       "      <td>1.00</td>\n",
       "      <td>1.00</td>\n",
       "    </tr>\n",
       "    <tr>\n",
       "      <th>75%</th>\n",
       "      <td>754.50</td>\n",
       "      <td>230772.00</td>\n",
       "      <td>518135.50</td>\n",
       "      <td>2.00</td>\n",
       "      <td>4.00</td>\n",
       "      <td>82.00</td>\n",
       "      <td>4.00</td>\n",
       "      <td>1.00</td>\n",
       "      <td>1.00</td>\n",
       "      <td>1.00</td>\n",
       "    </tr>\n",
       "    <tr>\n",
       "      <th>max</th>\n",
       "      <td>1004.00</td>\n",
       "      <td>299374.00</td>\n",
       "      <td>999628.00</td>\n",
       "      <td>2.00</td>\n",
       "      <td>5.00</td>\n",
       "      <td>105.00</td>\n",
       "      <td>5.00</td>\n",
       "      <td>1.00</td>\n",
       "      <td>1.00</td>\n",
       "      <td>1.00</td>\n",
       "    </tr>\n",
       "  </tbody>\n",
       "</table>\n",
       "</div>"
      ],
      "text/plain": [
       "       Unnamed: 0        HHI       HHDL  Married  CollegGrads  AHHAge    Cars  \\\n",
       "count      803.00     803.00     803.00   803.00       803.00  803.00  803.00   \n",
       "mean       502.24  155402.69  -15351.25     0.97         2.61   60.56    2.44   \n",
       "std        288.46   86788.15  595184.30     0.80         1.68   25.07    1.70   \n",
       "min          1.00     185.00 -999994.00     0.00         0.00   18.00    0.00   \n",
       "25%        254.50   82373.00 -516765.00     0.00         1.00   38.00    1.00   \n",
       "50%        501.00  156542.00  -24440.00     1.00         3.00   60.00    2.00   \n",
       "75%        754.50  230772.00  518135.50     2.00         4.00   82.00    4.00   \n",
       "max       1004.00  299374.00  999628.00     2.00         5.00  105.00    5.00   \n",
       "\n",
       "       Filed in 2017  Filed in 2016  Filed in 2015  \n",
       "count         803.00         803.00         803.00  \n",
       "mean            0.51           0.51           0.52  \n",
       "std             0.50           0.50           0.50  \n",
       "min             0.00           0.00           0.00  \n",
       "25%             0.00           0.00           0.00  \n",
       "50%             1.00           1.00           1.00  \n",
       "75%             1.00           1.00           1.00  \n",
       "max             1.00           1.00           1.00  "
      ]
     },
     "execution_count": 13,
     "metadata": {},
     "output_type": "execute_result"
    }
   ],
   "source": [
    "full_train.describe().round(2)"
   ]
  },
  {
   "cell_type": "markdown",
   "id": "7b5ccf22-a9b7-4443-99ce-5daaf7381d8b",
   "metadata": {
    "tags": []
   },
   "source": [
    "### Target Variable"
   ]
  },
  {
   "cell_type": "code",
   "execution_count": 58,
   "id": "e0c0cffb-0795-4063-9e88-57b048d0b48d",
   "metadata": {},
   "outputs": [
    {
     "data": {
      "text/plain": [
       "<matplotlib.axes._subplots.AxesSubplot at 0x7fa133676e50>"
      ]
     },
     "execution_count": 58,
     "metadata": {},
     "output_type": "execute_result"
    },
    {
     "data": {
      "image/png": "[encoded data removed]",
      "text/plain": [
       "<Figure size 432x288 with 1 Axes>"
      ]
     },
     "metadata": {
      "needs_background": "light"
     },
     "output_type": "display_data"
    }
   ],
   "source": [
    "sns.countplot(data=full_train, x='PoliticalParty', palette=colors)"
   ]
  },
  {
   "cell_type": "markdown",
   "id": "124d2803-e61d-44fe-9cf7-c47e5fb801e1",
   "metadata": {},
   "source": [
    "Observations:\n",
    "* All classes are almost perfectly balance, with each classes count are around 250. "
   ]
  },
  {
   "cell_type": "markdown",
   "id": "9092cb7a-7b68-4068-9d20-0c32ed0fd743",
   "metadata": {},
   "source": [
    "### HHI, HHDL, and AHHAge"
   ]
  },
  {
   "cell_type": "code",
   "execution_count": 65,
   "id": "1427844c-09c9-406c-9e46-b73963be569c",
   "metadata": {},
   "outputs": [
    {
     "data": {
      "image/png": "[encoded data removed]",
      "text/plain": [
       "<Figure size 1152x576 with 6 Axes>"
      ]
     },
     "metadata": {
      "needs_background": "light"
     },
     "output_type": "display_data"
    }
   ],
   "source": [
    "fig, ax = plt.subplots(2, 3, figsize=(16, 8))\n",
    "sns.histplot(data=full_train, x='HHI', ax=ax[0][0], color='#99d594')\n",
    "sns.histplot(data=full_train, x='HHDL', ax=ax[0][1], color='#99d594')\n",
    "sns.histplot(data=full_train, x='AHHAge', ax=ax[0][2], color='#99d594')\n",
    "\n",
    "sns.boxplot(data=full_train, x='HHI', ax=ax[1][0], y='PoliticalParty', palette=colors)\n",
    "sns.boxplot(data=full_train, x='HHDL', ax=ax[1][1], y='PoliticalParty', palette=colors)\n",
    "sns.boxplot(data=full_train, x='AHHAge', ax=ax[1][2], y='PoliticalParty', palette=colors)\n",
    "plt.tight_layout()\n",
    "plt.show()"
   ]
  },
  {
   "cell_type": "markdown",
   "id": "73ab46a1-9d50-4355-8709-a7eaed3cac09",
   "metadata": {},
   "source": [
    "Observations:\n",
    "* No outliers are present for HHI, HHDL, AHHAge features.\n",
    "* These three features tend to have a similar distribution for each target class.\n",
    "* HHDL has a negative values, while HHI has only non-negative value."
   ]
  },
  {
   "cell_type": "markdown",
   "id": "1c6093d5-33fa-44a8-8be5-b13316343499",
   "metadata": {},
   "source": [
    "### Married"
   ]
  },
  {
   "cell_type": "code",
   "execution_count": 55,
   "id": "cbeed3f3-5656-435d-a966-a9589ade5d48",
   "metadata": {},
   "outputs": [
    {
     "data": {
      "image/png": "[encoded data removed]",
      "text/plain": [
       "<Figure size 1008x288 with 2 Axes>"
      ]
     },
     "metadata": {
      "needs_background": "light"
     },
     "output_type": "display_data"
    }
   ],
   "source": [
    "fig, ax = plt.subplots(1, 2, figsize=(14, 4))\n",
    "sns.countplot(data=full_train, x='Married', ax=ax[0], color='#99d594')\n",
    "sns.histplot(data=full_train, x='Married', ax=ax[1], hue='PoliticalParty', multiple='stack', palette=colors)\n",
    "plt.tight_layout()\n",
    "plt.show()"
   ]
  },
  {
   "cell_type": "markdown",
   "id": "f90c2a55-8c04-4134-89ec-85b52af9534b",
   "metadata": {},
   "source": [
    "Observations:\n",
    "* The married variables distributions are balance and their distribution for each target classes are near-balance."
   ]
  },
  {
   "cell_type": "markdown",
   "id": "c364a617-7d00-4f5b-bb02-7de841fef741",
   "metadata": {},
   "source": [
    "### CollegGrads"
   ]
  },
  {
   "cell_type": "code",
   "execution_count": 41,
   "id": "91ba348c-fe5d-4417-92aa-0bc550a2092c",
   "metadata": {},
   "outputs": [
    {
     "data": {
      "image/png": "[encoded data removed]",
      "text/plain": [
       "<Figure size 1008x288 with 2 Axes>"
      ]
     },
     "metadata": {
      "needs_background": "light"
     },
     "output_type": "display_data"
    }
   ],
   "source": [
    "fig, ax = plt.subplots(1, 2, figsize=(14, 4))\n",
    "sns.countplot(data=full_train, x='CollegGrads', ax=ax[0], color='#99d594')\n",
    "sns.histplot(data=full_train, x='CollegGrads', ax=ax[1], hue='PoliticalParty', multiple='stack')\n",
    "plt.tight_layout()\n",
    "plt.show()"
   ]
  },
  {
   "cell_type": "markdown",
   "id": "31aaa2ab-a397-4f5e-8e27-95de1488e3f9",
   "metadata": {},
   "source": [
    "Observations:\n",
    "* The highest college grads are class number 4, with count are around 160.\n",
    "* Republican taxpayer is highest among college grads 2 and 4."
   ]
  },
  {
   "cell_type": "markdown",
   "id": "67473aa4-3d94-49e0-a3e1-314f121dce02",
   "metadata": {},
   "source": [
    "### Filed in 2015-2017"
   ]
  },
  {
   "cell_type": "code",
   "execution_count": 70,
   "id": "b5e65a10-d439-4def-81d9-4d2675f503c6",
   "metadata": {},
   "outputs": [
    {
     "data": {
      "image/png": "[encoded data removed]",
      "text/plain": [
       "<Figure size 1152x576 with 6 Axes>"
      ]
     },
     "metadata": {
      "needs_background": "light"
     },
     "output_type": "display_data"
    }
   ],
   "source": [
    "fig, ax = plt.subplots(2, 3, figsize=(16, 8))\n",
    "sns.countplot(data=full_train, x='Filed in 2017', ax=ax[0][0], color='#99d594')\n",
    "sns.countplot(data=full_train, x='Filed in 2016', ax=ax[0][1], color='#99d594')\n",
    "sns.countplot(data=full_train, x='Filed in 2015', ax=ax[0][2], color='#99d594')\n",
    "\n",
    "sns.countplot(data=full_train, x='Filed in 2017', ax=ax[1][0], hue='PoliticalParty', palette=colors)\n",
    "sns.countplot(data=full_train, x='Filed in 2016', ax=ax[1][1], hue='PoliticalParty', palette=colors)\n",
    "sns.countplot(data=full_train, x='Filed in 2015', ax=ax[1][2], hue='PoliticalParty', palette=colors)\n",
    "plt.tight_layout()\n",
    "plt.show()"
   ]
  },
  {
   "cell_type": "code",
   "execution_count": 11,
   "id": "da40cb57-65da-46fa-be2a-797cbc58f1d5",
   "metadata": {},
   "outputs": [
    {
     "name": "stdout",
     "output_type": "stream",
     "text": [
      "PoliticalParty  Filed in 2017\n",
      "Republican      1                147\n",
      "Democrat        0                144\n",
      "Independent     1                135\n",
      "                0                134\n",
      "Democrat        1                125\n",
      "Republican      0                118\n",
      "dtype: int64 \n",
      "\n",
      "PoliticalParty  Filed in 2016\n",
      "Independent     1                142\n",
      "Democrat        1                138\n",
      "Republican      0                136\n",
      "Democrat        0                131\n",
      "Republican      1                129\n",
      "Independent     0                127\n",
      "dtype: int64 \n",
      "\n",
      "PoliticalParty  Filed in 2015\n",
      "Independent     1                153\n",
      "Democrat        0                144\n",
      "Republican      1                137\n",
      "                0                128\n",
      "Democrat        1                125\n",
      "Independent     0                116\n",
      "dtype: int64 \n",
      "\n"
     ]
    }
   ],
   "source": [
    "for filed in ['Filed in 2017', 'Filed in 2016', 'Filed in 2015']:\n",
    "    print(full_train[['PoliticalParty', filed]].value_counts(), '\\n')"
   ]
  },
  {
   "cell_type": "markdown",
   "id": "4695a8ed-5ac9-4ae9-982f-3c7976545516",
   "metadata": {},
   "source": [
    "Observations:\n",
    "* Taxpayer with Democrat as their political party tend to not filed the tax with their count filed in 2015 and 2017 are lowest compared to other political party."
   ]
  },
  {
   "cell_type": "markdown",
   "id": "7c7e5239-921b-4bb0-bd75-60842a0c89bd",
   "metadata": {
    "tags": []
   },
   "source": [
    "## Feature Engineering"
   ]
  },
  {
   "cell_type": "markdown",
   "id": "1156ecff-8acb-40d1-bb80-a99ad08581b7",
   "metadata": {},
   "source": [
    "The following are the summary of feature engineering\n",
    "1. Drop the unique identifier variable.\n",
    "2. Label the target variable into integer. \n",
    "3. Apply Target Encoder to all categorical variables and AHHAge.\n",
    "4. Create a new feature, delta_HHI_HHDL which is difference between HHI and HHDL."
   ]
  },
  {
   "cell_type": "code",
   "execution_count": 24,
   "id": "5167cc19-3e60-4847-8a73-675de718f064",
   "metadata": {},
   "outputs": [
    {
     "data": {
      "text/html": [
       "<div>\n",
       "<style scoped>\n",
       "    .dataframe tbody tr th:only-of-type {\n",
       "        vertical-align: middle;\n",
       "    }\n",
       "\n",
       "    .dataframe tbody tr th {\n",
       "        vertical-align: top;\n",
       "    }\n",
       "\n",
       "    .dataframe thead th {\n",
       "        text-align: right;\n",
       "    }\n",
       "</style>\n",
       "<table border=\"1\" class=\"dataframe\">\n",
       "  <thead>\n",
       "    <tr style=\"text-align: right;\">\n",
       "      <th></th>\n",
       "      <th>HHI</th>\n",
       "      <th>HHDL</th>\n",
       "      <th>Married</th>\n",
       "      <th>CollegGrads</th>\n",
       "      <th>AHHAge</th>\n",
       "      <th>Cars</th>\n",
       "      <th>Filed in 2017</th>\n",
       "      <th>Filed in 2016</th>\n",
       "      <th>Filed in 2015</th>\n",
       "      <th>PoliticalParty</th>\n",
       "      <th>delta_HHI_HHDL</th>\n",
       "    </tr>\n",
       "  </thead>\n",
       "  <tbody>\n",
       "    <tr>\n",
       "      <th>0</th>\n",
       "      <td>183414</td>\n",
       "      <td>-12402</td>\n",
       "      <td>1.017606</td>\n",
       "      <td>0.985612</td>\n",
       "      <td>1.124886</td>\n",
       "      <td>0.941606</td>\n",
       "      <td>1.025253</td>\n",
       "      <td>1.010152</td>\n",
       "      <td>0.932530</td>\n",
       "      <td>2</td>\n",
       "      <td>195816</td>\n",
       "    </tr>\n",
       "    <tr>\n",
       "      <th>1</th>\n",
       "      <td>129786</td>\n",
       "      <td>700251</td>\n",
       "      <td>0.967742</td>\n",
       "      <td>1.083333</td>\n",
       "      <td>1.124886</td>\n",
       "      <td>0.975806</td>\n",
       "      <td>1.025253</td>\n",
       "      <td>1.010152</td>\n",
       "      <td>1.072165</td>\n",
       "      <td>1</td>\n",
       "      <td>-570465</td>\n",
       "    </tr>\n",
       "    <tr>\n",
       "      <th>2</th>\n",
       "      <td>268343</td>\n",
       "      <td>493411</td>\n",
       "      <td>0.967742</td>\n",
       "      <td>0.975155</td>\n",
       "      <td>1.000000</td>\n",
       "      <td>0.941606</td>\n",
       "      <td>0.975430</td>\n",
       "      <td>1.010152</td>\n",
       "      <td>0.932530</td>\n",
       "      <td>0</td>\n",
       "      <td>-225068</td>\n",
       "    </tr>\n",
       "    <tr>\n",
       "      <th>3</th>\n",
       "      <td>290506</td>\n",
       "      <td>-433408</td>\n",
       "      <td>1.017606</td>\n",
       "      <td>0.945312</td>\n",
       "      <td>1.124886</td>\n",
       "      <td>0.929134</td>\n",
       "      <td>0.975430</td>\n",
       "      <td>1.010152</td>\n",
       "      <td>0.932530</td>\n",
       "      <td>1</td>\n",
       "      <td>723914</td>\n",
       "    </tr>\n",
       "    <tr>\n",
       "      <th>4</th>\n",
       "      <td>90108</td>\n",
       "      <td>907135</td>\n",
       "      <td>1.017606</td>\n",
       "      <td>0.992188</td>\n",
       "      <td>1.499938</td>\n",
       "      <td>0.929134</td>\n",
       "      <td>0.975430</td>\n",
       "      <td>0.990220</td>\n",
       "      <td>1.072165</td>\n",
       "      <td>2</td>\n",
       "      <td>-817027</td>\n",
       "    </tr>\n",
       "  </tbody>\n",
       "</table>\n",
       "</div>"
      ],
      "text/plain": [
       "      HHI    HHDL   Married  CollegGrads    AHHAge      Cars  Filed in 2017  \\\n",
       "0  183414  -12402  1.017606     0.985612  1.124886  0.941606       1.025253   \n",
       "1  129786  700251  0.967742     1.083333  1.124886  0.975806       1.025253   \n",
       "2  268343  493411  0.967742     0.975155  1.000000  0.941606       0.975430   \n",
       "3  290506 -433408  1.017606     0.945312  1.124886  0.929134       0.975430   \n",
       "4   90108  907135  1.017606     0.992188  1.499938  0.929134       0.975430   \n",
       "\n",
       "   Filed in 2016  Filed in 2015  PoliticalParty  delta_HHI_HHDL  \n",
       "0       1.010152       0.932530               2          195816  \n",
       "1       1.010152       1.072165               1         -570465  \n",
       "2       1.010152       0.932530               0         -225068  \n",
       "3       1.010152       0.932530               1          723914  \n",
       "4       0.990220       1.072165               2         -817027  "
      ]
     },
     "execution_count": 24,
     "metadata": {},
     "output_type": "execute_result"
    }
   ],
   "source": [
    "def feature_engineering(df, ordinal, target):\n",
    "    df = df.copy()\n",
    "    df = df.drop('Unnamed: 0', axis=1)\n",
    "    \n",
    "    df[target] = df[target].map(\n",
    "        {'Democrat': 2, 'Republican': 1, 'Independent': 0}\n",
    "    )\n",
    "    \n",
    "    df['delta_HHI_HHDL'] = df['HHI'] - df['HHDL']\n",
    "    \n",
    "    target_encoder = TargetEncoder(\n",
    "        cols=ordinal\n",
    "    )\n",
    "    return target_encoder, target_encoder.fit_transform(\n",
    "        df,\n",
    "        df[target]\n",
    "    )\n",
    "\n",
    "ordinal = ['Married', 'AHHAge', 'CollegGrads', 'Cars', 'Filed in 2017', 'Filed in 2016', 'Filed in 2015']\n",
    "target = 'PoliticalParty'\n",
    "target_encoder, encoded_df = feature_engineering(full_train, ordinal, target)\n",
    "encoded_df.head()"
   ]
  },
  {
   "cell_type": "markdown",
   "id": "10c3d469-18fd-46ca-ad0c-59750c937480",
   "metadata": {
    "tags": []
   },
   "source": [
    "## Modelling\n",
    "To evalute the model accuracy, we use the 5-folds cross validation and various model. Because we are going to use the Logistic Regression, all the features must be in the same range, so we normalize the data before fitting the data to model."
   ]
  },
  {
   "cell_type": "code",
   "execution_count": 27,
   "id": "971a89a9-92bb-46b6-8194-037bd67ed70e",
   "metadata": {},
   "outputs": [
    {
     "name": "stdout",
     "output_type": "stream",
     "text": [
      "LogisticRegression 0.456 +- 0.041\n",
      "DecisionTreeClassifier 0.369 +- 0.041\n",
      "RandomForestClassifier 0.431 +- 0.023\n",
      "GradientBoostingClassifier 0.412 +- 0.039\n",
      "XGBClassifier 0.404 +- 0.017\n",
      "VotingClassifier_1 0.430 +- 0.035\n",
      "VotingClassifier_2 0.420 +- 0.037\n"
     ]
    }
   ],
   "source": [
    "def classifiers(seed=0):\n",
    "    clfs = {}\n",
    "    clfs['LogisticRegression'] = LogisticRegression(\n",
    "        random_state=seed, solver='liblinear', C=10\n",
    "    )\n",
    "    clfs['DecisionTreeClassifier'] = DecisionTreeClassifier(\n",
    "        random_state=seed, max_depth=7\n",
    "    )\n",
    "    clfs['RandomForestClassifier'] = RandomForestClassifier(\n",
    "        random_state=seed, max_depth=7\n",
    "    )\n",
    "    clfs['GradientBoostingClassifier'] = GradientBoostingClassifier(\n",
    "        random_state=seed, max_depth=7\n",
    "    )\n",
    "    clfs['XGBClassifier'] = XGBClassifier(\n",
    "        random_state=seed, max_depth=7\n",
    "    )\n",
    "    clfs['VotingClassifier_1'] = VotingClassifier(\n",
    "        estimators=[\n",
    "           ('dt', clfs['DecisionTreeClassifier']), \n",
    "           ('rf', clfs['RandomForestClassifier']), \n",
    "           ('gb', clfs['GradientBoostingClassifier'])\n",
    "        ], voting='hard',\n",
    "           weights=[3, 5, 5] #gives 37.810\n",
    "    )\n",
    "    clfs['VotingClassifier_2'] = VotingClassifier(\n",
    "        estimators=[\n",
    "           ('dt', clfs['LogisticRegression']), \n",
    "           ('rf', clfs['GradientBoostingClassifier']), \n",
    "           ('gb', clfs['XGBClassifier'])\n",
    "        ], voting='hard',\n",
    "           weights=[3, 5, 4]\n",
    "    )\n",
    "    return clfs\n",
    "\n",
    "def evaluate(X, y, model, cv):\n",
    "    results = cross_validate(\n",
    "        model, \n",
    "        X, \n",
    "        y,\n",
    "        cv=cv,\n",
    "        scoring=\"accuracy\"\n",
    "    )\n",
    "\n",
    "    return results\n",
    "    \n",
    "X = encoded_df.drop(['PoliticalParty'], axis=1)\n",
    "y = encoded_df['PoliticalParty']\n",
    "\n",
    "cv = KFold(n_splits=5, shuffle=True, random_state=0)\n",
    "for name, clf in classifiers(seed=0).items():\n",
    "    model = make_pipeline(\n",
    "        MinMaxScaler(), \n",
    "        clf\n",
    "    )\n",
    "    results = evaluate(X, y, model, cv)\n",
    "    print(f\"{name} {np.mean(results['test_score']):.3f} +- {np.std(results['test_score']):.3f}\")"
   ]
  },
  {
   "cell_type": "markdown",
   "id": "8aca56bc-eb64-437f-a284-b5f1c48c738d",
   "metadata": {},
   "source": [
    "The best model with highest accuracy as follows:\n",
    "* LogisticRegression: 45.6%\n",
    "* RandomForestClassifier: 43.1%\n",
    "* VotingClassifier: 43.0%\n",
    "\n",
    "The accuracy of model are too low due to the following reasons:\n",
    "1. Insufficient number of observations\n",
    "2. Most of features do not have a statistical power due to their category of each classes tend to have same mean and similar distribution, even though there are no outliers present"
   ]
  },
  {
   "cell_type": "markdown",
   "id": "fc737645-b4e5-4d3f-912c-cee4a2814229",
   "metadata": {
    "tags": []
   },
   "source": [
    "## Feature Importances"
   ]
  },
  {
   "cell_type": "markdown",
   "id": "26da2446-0ef6-4a73-9ff4-3e4c313f8e7b",
   "metadata": {},
   "source": [
    "I will use only Random Forest model to visualize the feature importances."
   ]
  },
  {
   "cell_type": "code",
   "execution_count": 36,
   "id": "cc0ba2f0-f67e-4569-9091-1289fab90608",
   "metadata": {},
   "outputs": [
    {
     "data": {
      "image/png": "[encoded data removed]",
      "text/plain": [
       "<Figure size 432x288 with 1 Axes>"
      ]
     },
     "metadata": {
      "needs_background": "light"
     },
     "output_type": "display_data"
    }
   ],
   "source": [
    "model = make_pipeline(\n",
    "    MinMaxScaler(), \n",
    "    classifiers(seed=0)['RandomForestClassifier']\n",
    ")\n",
    "model.fit(X, y)\n",
    "feat_imp = zip(model[0].get_feature_names_out(), model[-1].feature_importances_)\n",
    "feat_imp = pd.DataFrame([*feat_imp], columns=['feature', 'score']).sort_values(by='score', ascending=False)\n",
    "\n",
    "sns.barplot(data=feat_imp, y='feature', x='score', color=colors[0])\n",
    "plt.title('Feature Importances\\n', fontsize=14)\n",
    "plt.show()"
   ]
  },
  {
   "cell_type": "markdown",
   "id": "f271d380-e799-4cd9-a4e0-bb26ef7ca636",
   "metadata": {},
   "source": [
    "Observations:\n",
    "* The feature with highest importance are: AHHAge, HHI, delta_HHI_HHDL, and HHDL.\n",
    "* It seems the taxpayer personal attributes such as number of cars, college grade, and marital status are not too important for the model to predict the taxpayer political party\n",
    "* Tax filed in 2015-2017 are less important features to the model."
   ]
  },
  {
   "cell_type": "markdown",
   "id": "87e97533-e2ed-4414-92af-e82e9326918d",
   "metadata": {
    "tags": []
   },
   "source": [
    "## Conclusion"
   ]
  },
  {
   "cell_type": "markdown",
   "id": "97ad0501-244a-46f6-83c7-c1693187095e",
   "metadata": {},
   "source": [
    "* The objective of this project is to predict the taxpayer political party based on their attributes. This is a multi-class classification task.\n",
    "* The target variable is balance with each count around 250 and have three classes such as Democrat, Republican, and Independent.\n",
    "* The dataset features have a less statistical predictive power due to each feature category per target class have same mean and similar distribution.\n",
    "* The features and target are processed before modelling. \n",
    "    * All categorical variables and `AHHAge` are encoded by using Target Encoders.\n",
    "    * Create a new feature, `delta_HHI_HHDL`, a difference between HHI and HHDL.\n",
    "    * Label the target variable classes to integer from 0 to 2.\n",
    "* At modelling stage, we observed the following model gave the best accuracy.\n",
    "    * LogisticRegression: 45.6%\n",
    "    * RandomForestClassifier: 43.1%\n",
    "    * VotingClassifier: 43.0% \n",
    "* By evaluating the feature importances of Random Forest model, we found the following features are the most important feature to the model.\n",
    "    * `AHHAge`\n",
    "    * `HHI` \n",
    "    * `delta_HHI_HHDL`\n",
    "    * `HHDL`"
   ]
  },
  {
   "cell_type": "markdown",
   "id": "b30c3d4b-058c-4179-9a94-122523f8ae71",
   "metadata": {},
   "source": [
    "## Lesson Learned"
   ]
  },
  {
   "cell_type": "markdown",
   "id": "2b3aef6c-2897-4991-8c81-6d24b7fe5e45",
   "metadata": {},
   "source": [
    "The accuracy of model are too low due to the following reasons:\n",
    "1. Insufficient number of observations. We need to gain more data by doing survey again.\n",
    "2. Most of features do not have a statistical power due to their category of each classes tend to have same mean and similar distribution, even though there are no outliers present. To address this issue, we need to conduct hypothesis testing and resampling data."
   ]
  }
 ],
 "metadata": {
  "kernelspec": {
   "display_name": "Python 3 (ipykernel)",
   "language": "python",
   "name": "python3"
  },
  "language_info": {
   "codemirror_mode": {
    "name": "ipython",
    "version": 3
   },
   "file_extension": ".py",
   "mimetype": "text/x-python",
   "name": "python",
   "nbconvert_exporter": "python",
   "pygments_lexer": "ipython3",
   "version": "3.7.11"
  }
 },
 "nbformat": 4,
 "nbformat_minor": 5
}
