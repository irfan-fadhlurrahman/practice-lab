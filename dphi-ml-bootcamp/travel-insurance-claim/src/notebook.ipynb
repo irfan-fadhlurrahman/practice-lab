{
 "cells": [
  {
   "cell_type": "markdown",
   "id": "55dae811-2322-4934-becb-7cfd804825b9",
   "metadata": {},
   "source": [
    "## Problem Understanding\n",
    "\n",
    "COVID-19 pandemic made a lot of tour and travel companies unable to operate their business as usual, due to the lockdown and travel restrictions. In early 2022, the infection rate of COVID-19 decreases, so the travel restrictions are slowly lifted and people begin to travel again. But, the COVID-19 still presents in our daily lives, there is still a risk to be infected while on traveling. To travel safely, people need travel insurance to minimize the cost of healthcare if they ever get a severe illness while traveling. Tour and travel companies need to learn the pattern of customers who are likely to claim the insurance based on various information from previous customers. Being able to predict the likelihood of a customer claiming the travel insurance package, help the company to better allocate their resource to the potential customer faster."
   ]
  },
  {
   "cell_type": "markdown",
   "id": "bc4e2ca8-1f23-408f-b3f4-e4b0c7c635aa",
   "metadata": {},
   "source": [
    "## Data Source and Description"
   ]
  },
  {
   "cell_type": "markdown",
   "id": "b3c13b5e-5eb1-4343-8b9a-9c1db9a05d6a",
   "metadata": {},
   "source": [
    "Data source are from dphi data challenges. It can be downloaded from this [link](https://dphi.tech/challenges/travel-insurance-claim-prediction/49/overview/about). The following below are descriptions for each variables in this dataset."
   ]
  },
  {
   "cell_type": "markdown",
   "id": "9e0b7ef6-8378-44be-bf30-263204a66b9b",
   "metadata": {},
   "source": [
    "* Duration: Travel duration\n",
    "\n",
    "* Destination: Travel destination\n",
    "\n",
    "* Agency: Agency Name\n",
    "\n",
    "* Commission: Commission on the insurance\n",
    "\n",
    "* Age: Age of the insurance buyer\n",
    "\n",
    "* Gender: Gender of the insurance buyer\n",
    "\n",
    "* Agency Type: What is the agency type?\n",
    "\n",
    "* Distribution Channel: offline/online\n",
    "\n",
    "* Product Name: Name of the insurance plan\n",
    "\n",
    "* Net Sales: Net sales\n",
    "\n",
    "* Claim: If the insurance is claimed or not (the target variable), 0 = not claimed, 1 = claimed"
   ]
  },
  {
   "cell_type": "markdown",
   "id": "58930f12-d7c3-497c-8990-4e33209b75d9",
   "metadata": {},
   "source": [
    "## Dependecies"
   ]
  },
  {
   "cell_type": "code",
   "execution_count": 1,
   "id": "0f3a47f3-b4d0-42ad-83fe-75e34ea97ff5",
   "metadata": {},
   "outputs": [],
   "source": [
    "import dataset\n",
    "\n",
    "import numpy as np\n",
    "import matplotlib.pyplot as plt\n",
    "import seaborn as sns\n",
    "import inflection"
   ]
  },
  {
   "cell_type": "markdown",
   "id": "1cfac3ee-6926-4c8a-9b28-78347650ea18",
   "metadata": {},
   "source": [
    "## Load Dataset"
   ]
  },
  {
   "cell_type": "code",
   "execution_count": 2,
   "id": "3d8071b6-97a7-4a76-b059-5272686822c1",
   "metadata": {},
   "outputs": [
    {
     "data": {
      "text/plain": [
       "(48260, 11)"
      ]
     },
     "metadata": {},
     "output_type": "display_data"
    },
    {
     "data": {
      "text/html": [
       "<div>\n",
       "<style scoped>\n",
       "    .dataframe tbody tr th:only-of-type {\n",
       "        vertical-align: middle;\n",
       "    }\n",
       "\n",
       "    .dataframe tbody tr th {\n",
       "        vertical-align: top;\n",
       "    }\n",
       "\n",
       "    .dataframe thead th {\n",
       "        text-align: right;\n",
       "    }\n",
       "</style>\n",
       "<table border=\"1\" class=\"dataframe\">\n",
       "  <thead>\n",
       "    <tr style=\"text-align: right;\">\n",
       "      <th></th>\n",
       "      <th>agency</th>\n",
       "      <th>agency_type</th>\n",
       "      <th>distribution_channel</th>\n",
       "      <th>product_name</th>\n",
       "      <th>duration</th>\n",
       "      <th>destination</th>\n",
       "      <th>net_sales</th>\n",
       "      <th>commision_(in_value)</th>\n",
       "      <th>gender</th>\n",
       "      <th>age</th>\n",
       "      <th>claim</th>\n",
       "    </tr>\n",
       "  </thead>\n",
       "  <tbody>\n",
       "    <tr>\n",
       "      <th>0</th>\n",
       "      <td>CWT</td>\n",
       "      <td>Travel Agency</td>\n",
       "      <td>Online</td>\n",
       "      <td>Rental Vehicle Excess Insurance</td>\n",
       "      <td>61</td>\n",
       "      <td>UNITED KINGDOM</td>\n",
       "      <td>19.8</td>\n",
       "      <td>11.88</td>\n",
       "      <td>NaN</td>\n",
       "      <td>29</td>\n",
       "      <td>0</td>\n",
       "    </tr>\n",
       "    <tr>\n",
       "      <th>1</th>\n",
       "      <td>EPX</td>\n",
       "      <td>Travel Agency</td>\n",
       "      <td>Online</td>\n",
       "      <td>Cancellation Plan</td>\n",
       "      <td>93</td>\n",
       "      <td>NEW ZEALAND</td>\n",
       "      <td>63.0</td>\n",
       "      <td>0.00</td>\n",
       "      <td>NaN</td>\n",
       "      <td>36</td>\n",
       "      <td>0</td>\n",
       "    </tr>\n",
       "    <tr>\n",
       "      <th>2</th>\n",
       "      <td>EPX</td>\n",
       "      <td>Travel Agency</td>\n",
       "      <td>Online</td>\n",
       "      <td>2 way Comprehensive Plan</td>\n",
       "      <td>22</td>\n",
       "      <td>UNITED STATES</td>\n",
       "      <td>22.0</td>\n",
       "      <td>0.00</td>\n",
       "      <td>NaN</td>\n",
       "      <td>25</td>\n",
       "      <td>0</td>\n",
       "    </tr>\n",
       "    <tr>\n",
       "      <th>3</th>\n",
       "      <td>C2B</td>\n",
       "      <td>Airlines</td>\n",
       "      <td>Online</td>\n",
       "      <td>Silver Plan</td>\n",
       "      <td>14</td>\n",
       "      <td>SINGAPORE</td>\n",
       "      <td>54.5</td>\n",
       "      <td>13.63</td>\n",
       "      <td>M</td>\n",
       "      <td>24</td>\n",
       "      <td>0</td>\n",
       "    </tr>\n",
       "    <tr>\n",
       "      <th>4</th>\n",
       "      <td>EPX</td>\n",
       "      <td>Travel Agency</td>\n",
       "      <td>Online</td>\n",
       "      <td>Cancellation Plan</td>\n",
       "      <td>90</td>\n",
       "      <td>VIET NAM</td>\n",
       "      <td>10.0</td>\n",
       "      <td>0.00</td>\n",
       "      <td>NaN</td>\n",
       "      <td>23</td>\n",
       "      <td>0</td>\n",
       "    </tr>\n",
       "  </tbody>\n",
       "</table>\n",
       "</div>"
      ],
      "text/plain": [
       "  agency    agency_type distribution_channel                     product_name  \\\n",
       "0    CWT  Travel Agency               Online  Rental Vehicle Excess Insurance   \n",
       "1    EPX  Travel Agency               Online                Cancellation Plan   \n",
       "2    EPX  Travel Agency               Online         2 way Comprehensive Plan   \n",
       "3    C2B       Airlines               Online                      Silver Plan   \n",
       "4    EPX  Travel Agency               Online                Cancellation Plan   \n",
       "\n",
       "   duration     destination  net_sales  commision_(in_value) gender  age  \\\n",
       "0        61  UNITED KINGDOM       19.8                 11.88    NaN   29   \n",
       "1        93     NEW ZEALAND       63.0                  0.00    NaN   36   \n",
       "2        22   UNITED STATES       22.0                  0.00    NaN   25   \n",
       "3        14       SINGAPORE       54.5                 13.63      M   24   \n",
       "4        90        VIET NAM       10.0                  0.00    NaN   23   \n",
       "\n",
       "   claim  \n",
       "0      0  \n",
       "1      0  \n",
       "2      0  \n",
       "3      0  \n",
       "4      0  "
      ]
     },
     "metadata": {},
     "output_type": "display_data"
    }
   ],
   "source": [
    "df = dataset.load_dataset(\"../dataset/Training_set_label.csv\")\n",
    "display(df.shape, df.head())"
   ]
  },
  {
   "cell_type": "markdown",
   "id": "62ed3168-21b3-466f-b12b-884e176d27d8",
   "metadata": {},
   "source": [
    "There are 48260 observations and 11 variables. We noticed missing values are present in this dataset"
   ]
  },
  {
   "cell_type": "markdown",
   "id": "a7a60419-73f8-4b2f-a762-5a3d80118050",
   "metadata": {},
   "source": [
    "## Exploratory Data Analysis"
   ]
  },
  {
   "cell_type": "markdown",
   "id": "a0ff6ee7-33a9-462b-a6d8-2da96a871d3f",
   "metadata": {
    "tags": []
   },
   "source": [
    "### Check duplicated data"
   ]
  },
  {
   "cell_type": "code",
   "execution_count": 3,
   "id": "840100f6-b4ce-4432-993e-0e4fffa05cfb",
   "metadata": {},
   "outputs": [
    {
     "data": {
      "text/plain": [
       "True"
      ]
     },
     "execution_count": 3,
     "metadata": {},
     "output_type": "execute_result"
    }
   ],
   "source": [
    "df.duplicated().any()"
   ]
  },
  {
   "cell_type": "code",
   "execution_count": 4,
   "id": "8f6cdc80-577f-465a-a268-25d2aa196f67",
   "metadata": {},
   "outputs": [
    {
     "data": {
      "text/plain": [
       "(5893, 11)"
      ]
     },
     "execution_count": 4,
     "metadata": {},
     "output_type": "execute_result"
    }
   ],
   "source": [
    "df[df.duplicated()].shape"
   ]
  },
  {
   "cell_type": "markdown",
   "id": "e38ebd97-fa20-46e7-b63d-a6790b3c9f8c",
   "metadata": {},
   "source": [
    "Around 12% observations are duplicated. We need to remove this duplicated data."
   ]
  },
  {
   "cell_type": "code",
   "execution_count": 5,
   "id": "151b40a3-728c-47e7-ae12-3bf3bfafde0a",
   "metadata": {},
   "outputs": [
    {
     "name": "stdout",
     "output_type": "stream",
     "text": [
      "before drop duplicates: (48260, 11)\n",
      "after drop duplicates: (42367, 11)\n"
     ]
    }
   ],
   "source": [
    "print(f\"before drop duplicates: {df.shape}\")\n",
    "\n",
    "df = df.drop_duplicates()\n",
    "print(f\"after drop duplicates: {df.shape}\")"
   ]
  },
  {
   "cell_type": "markdown",
   "id": "4e781890-c750-4e51-9670-01fa3a9aa503",
   "metadata": {},
   "source": [
    "The following command are used to split the dataset into 90% train set and 10% test set with stratified sampling to keep the target class ratio same for both train and test set. We use train set for exploratory data analysis and modelling, while test set are treated as unseen data to test the model performance more objective."
   ]
  },
  {
   "cell_type": "code",
   "execution_count": 6,
   "id": "ba733e5c-977b-4f77-9af8-24152cc2a1b7",
   "metadata": {},
   "outputs": [
    {
     "name": "stdout",
     "output_type": "stream",
     "text": [
      "full train shape: (38130, 11)\n",
      "test shape: (4237, 11)\n"
     ]
    }
   ],
   "source": [
    "full_train, test = dataset.split_dataset(df, target='claim', test_size=0.1, seed=42)\n",
    "\n",
    "print(f\"full train shape: {full_train.shape}\")\n",
    "print(f\"test shape: {test.shape}\")"
   ]
  },
  {
   "cell_type": "markdown",
   "id": "82c5c47d-c74a-4d43-b33e-802245fc3555",
   "metadata": {},
   "source": [
    "For the rest of exploratory, we will use full_train instead a whole dataset."
   ]
  },
  {
   "cell_type": "markdown",
   "id": "06da10c3-8274-428d-bb1c-f6bb723034b9",
   "metadata": {
    "tags": []
   },
   "source": [
    "### Missing value and data type"
   ]
  },
  {
   "cell_type": "code",
   "execution_count": 12,
   "id": "7c931a8b-c6c3-4177-99dc-5d3d23f0a911",
   "metadata": {},
   "outputs": [
    {
     "data": {
      "text/html": [
       "<div>\n",
       "<style scoped>\n",
       "    .dataframe tbody tr th:only-of-type {\n",
       "        vertical-align: middle;\n",
       "    }\n",
       "\n",
       "    .dataframe tbody tr th {\n",
       "        vertical-align: top;\n",
       "    }\n",
       "\n",
       "    .dataframe thead th {\n",
       "        text-align: right;\n",
       "    }\n",
       "</style>\n",
       "<table border=\"1\" class=\"dataframe\">\n",
       "  <thead>\n",
       "    <tr style=\"text-align: right;\">\n",
       "      <th></th>\n",
       "      <th>variable</th>\n",
       "      <th>no_unique</th>\n",
       "      <th>pandas_dtype</th>\n",
       "      <th>missing_value</th>\n",
       "      <th>%_missing_values</th>\n",
       "      <th>unique_value</th>\n",
       "    </tr>\n",
       "  </thead>\n",
       "  <tbody>\n",
       "    <tr>\n",
       "      <th>0</th>\n",
       "      <td>agency</td>\n",
       "      <td>16</td>\n",
       "      <td>object</td>\n",
       "      <td>0</td>\n",
       "      <td>0.000000</td>\n",
       "      <td>[JZI, EPX, C2B, ART, SSI, CWT, CSR, RAB, TST, ...</td>\n",
       "    </tr>\n",
       "    <tr>\n",
       "      <th>1</th>\n",
       "      <td>agency_type</td>\n",
       "      <td>2</td>\n",
       "      <td>object</td>\n",
       "      <td>0</td>\n",
       "      <td>0.000000</td>\n",
       "      <td>[Airlines, Travel Agency]</td>\n",
       "    </tr>\n",
       "    <tr>\n",
       "      <th>2</th>\n",
       "      <td>distribution_channel</td>\n",
       "      <td>2</td>\n",
       "      <td>object</td>\n",
       "      <td>0</td>\n",
       "      <td>0.000000</td>\n",
       "      <td>[Online, Offline]</td>\n",
       "    </tr>\n",
       "    <tr>\n",
       "      <th>3</th>\n",
       "      <td>product_name</td>\n",
       "      <td>26</td>\n",
       "      <td>object</td>\n",
       "      <td>0</td>\n",
       "      <td>0.000000</td>\n",
       "      <td>[Basic Plan, Cancellation Plan, 1 way Comprehe...</td>\n",
       "    </tr>\n",
       "    <tr>\n",
       "      <th>4</th>\n",
       "      <td>duration</td>\n",
       "      <td>438</td>\n",
       "      <td>int64</td>\n",
       "      <td>0</td>\n",
       "      <td>0.000000</td>\n",
       "      <td>[19, 7, 13, 11, 14, 9, 44, 15, 37, 10, 90, 36,...</td>\n",
       "    </tr>\n",
       "    <tr>\n",
       "      <th>5</th>\n",
       "      <td>destination</td>\n",
       "      <td>139</td>\n",
       "      <td>object</td>\n",
       "      <td>0</td>\n",
       "      <td>0.000000</td>\n",
       "      <td>[VIET NAM, THAILAND, SINGAPORE, PHILIPPINES, M...</td>\n",
       "    </tr>\n",
       "    <tr>\n",
       "      <th>6</th>\n",
       "      <td>net_sales</td>\n",
       "      <td>974</td>\n",
       "      <td>float64</td>\n",
       "      <td>0</td>\n",
       "      <td>0.000000</td>\n",
       "      <td>[18.0, 23.0, 61.0, 31.8, 111.21, 0.0, 2.64, 22...</td>\n",
       "    </tr>\n",
       "    <tr>\n",
       "      <th>7</th>\n",
       "      <td>commision_(in_value)</td>\n",
       "      <td>901</td>\n",
       "      <td>float64</td>\n",
       "      <td>0</td>\n",
       "      <td>0.000000</td>\n",
       "      <td>[6.3, 0.0, 7.95, 38.92, 0.74, 7.7, 11.75, 23.7...</td>\n",
       "    </tr>\n",
       "    <tr>\n",
       "      <th>8</th>\n",
       "      <td>gender</td>\n",
       "      <td>2</td>\n",
       "      <td>object</td>\n",
       "      <td>26520</td>\n",
       "      <td>69.551534</td>\n",
       "      <td>[M, nan, F]</td>\n",
       "    </tr>\n",
       "    <tr>\n",
       "      <th>9</th>\n",
       "      <td>age</td>\n",
       "      <td>88</td>\n",
       "      <td>int64</td>\n",
       "      <td>0</td>\n",
       "      <td>0.000000</td>\n",
       "      <td>[38, 30, 36, 45, 48, 49, 34, 54, 26, 31, 61, 6...</td>\n",
       "    </tr>\n",
       "    <tr>\n",
       "      <th>10</th>\n",
       "      <td>claim</td>\n",
       "      <td>2</td>\n",
       "      <td>int64</td>\n",
       "      <td>0</td>\n",
       "      <td>0.000000</td>\n",
       "      <td>[0, 1]</td>\n",
       "    </tr>\n",
       "  </tbody>\n",
       "</table>\n",
       "</div>"
      ],
      "text/plain": [
       "                variable no_unique pandas_dtype missing_value  \\\n",
       "0                 agency        16       object             0   \n",
       "1            agency_type         2       object             0   \n",
       "2   distribution_channel         2       object             0   \n",
       "3           product_name        26       object             0   \n",
       "4               duration       438        int64             0   \n",
       "5            destination       139       object             0   \n",
       "6              net_sales       974      float64             0   \n",
       "7   commision_(in_value)       901      float64             0   \n",
       "8                 gender         2       object         26520   \n",
       "9                    age        88        int64             0   \n",
       "10                 claim         2        int64             0   \n",
       "\n",
       "    %_missing_values                                       unique_value  \n",
       "0           0.000000  [JZI, EPX, C2B, ART, SSI, CWT, CSR, RAB, TST, ...  \n",
       "1           0.000000                          [Airlines, Travel Agency]  \n",
       "2           0.000000                                  [Online, Offline]  \n",
       "3           0.000000  [Basic Plan, Cancellation Plan, 1 way Comprehe...  \n",
       "4           0.000000  [19, 7, 13, 11, 14, 9, 44, 15, 37, 10, 90, 36,...  \n",
       "5           0.000000  [VIET NAM, THAILAND, SINGAPORE, PHILIPPINES, M...  \n",
       "6           0.000000  [18.0, 23.0, 61.0, 31.8, 111.21, 0.0, 2.64, 22...  \n",
       "7           0.000000  [6.3, 0.0, 7.95, 38.92, 0.74, 7.7, 11.75, 23.7...  \n",
       "8          69.551534                                        [M, nan, F]  \n",
       "9           0.000000  [38, 30, 36, 45, 48, 49, 34, 54, 26, 31, 61, 6...  \n",
       "10          0.000000                                             [0, 1]  "
      ]
     },
     "execution_count": 12,
     "metadata": {},
     "output_type": "execute_result"
    }
   ],
   "source": [
    "dataset.missing_values(full_train)"
   ]
  },
  {
   "cell_type": "markdown",
   "id": "d673cf89-b690-4688-ade7-203f02a6d9d3",
   "metadata": {},
   "source": [
    "This dataset contains 6 categorical variables denoted by object type, 4 numerical variables (float or int type), and 1 target variable (int type). The only variable with missing values is gender that accounted for 69.5% observations. In order to avoid bias toward either gender when filling the missing values with its mode, we must not use this for exploring dataset and bulding a model. The following are the list of categorical and numerical features."
   ]
  },
  {
   "cell_type": "code",
   "execution_count": 19,
   "id": "1c2a7482-b356-4dfd-8ce5-9892eccff990",
   "metadata": {},
   "outputs": [
    {
     "name": "stdout",
     "output_type": "stream",
     "text": [
      "numerical: ['duration', 'net_sales', 'commision_(in_value)', 'age']\n",
      "categorical: ['agency', 'agency_type', 'distribution_channel', 'product_name', 'destination', 'gender']\n"
     ]
    }
   ],
   "source": [
    "numerical = df.select_dtypes(np.number).columns.tolist()\n",
    "numerical.remove('claim')\n",
    "\n",
    "categorical = df.select_dtypes('O').columns.tolist()\n",
    "\n",
    "print(f\"numerical: {numerical}\")\n",
    "print(f\"categorical: {categorical}\")"
   ]
  },
  {
   "cell_type": "markdown",
   "id": "6029ee7a-4e05-49a7-8b90-a5f6adec8d40",
   "metadata": {
    "tags": []
   },
   "source": [
    "### Target variable: Distribution"
   ]
  },
  {
   "cell_type": "code",
   "execution_count": 35,
   "id": "c1b39d88-8cbd-4a22-ba32-9a4c59c8d76f",
   "metadata": {},
   "outputs": [
    {
     "data": {
      "image/png": "[encoded data removed]",
      "text/plain": [
       "<Figure size 864x432 with 1 Axes>"
      ]
     },
     "metadata": {
      "needs_background": "light"
     },
     "output_type": "display_data"
    }
   ],
   "source": [
    "fig, ax = plt.subplots(1, 1, figsize=(12, 6))\n",
    "colors = ['#99d594', '#D53E4F', '#FC8D59']\n",
    "var = 'claim'\n",
    "\n",
    "sns.countplot(data=df, x=var, ax=ax, color=colors[0])\n",
    "feat_counts = df[var].value_counts().sort_index().values\n",
    "\n",
    "for n, count in enumerate(feat_counts):\n",
    "    ax.annotate(\n",
    "        f\"{count} ({(100* count/np.sum(feat_counts)):.1f}%)\",\n",
    "        xy=(n, count + 1000),\n",
    "        color='#4a4a4a', fontsize=14, alpha=1,\n",
    "        va = 'center', ha='center',\n",
    "    )\n",
    "for location in ['top', 'right']:\n",
    "    ax.spines[location].set_visible(False)\n",
    "    \n",
    "#ax.grid(axis='y', alpha=0.2)\n",
    "ax.set_axisbelow(True)\n",
    "ax.set_xlabel(f\"{inflection.titleize(var)}\", fontsize=14)\n",
    "ax.set_ylabel(\"Count\", fontsize=14)\n",
    "ax.set_ylim(0, 45000, 5000)\n",
    "\n",
    "plt.xticks(alpha=1, fontsize=14)\n",
    "plt.yticks(alpha=1, fontsize=14)\n",
    "\n",
    "plt.suptitle(f\"Distribution of the Target Variable\", ha='left', x=0.125, y=1.05, fontsize=18, fontweight='bold')\n",
    "plt.title(f\"Total number observations are {df.shape[0]} with extreme class imbalance are present\\n\\n\", loc='left')\n",
    "plt.show()"
   ]
  },
  {
   "cell_type": "markdown",
   "id": "55b563db-fc2e-40f9-9e8f-ca6c8b925589",
   "metadata": {},
   "source": [
    "The class distribution on target variable is extremely imbalance with minority class only accounted for 1.6% compared to majority class 98.4%. We must consider to resampling the minority class either oversampling, undersampling, or over-under sampling and also to give more class weight to minority class."
   ]
  },
  {
   "cell_type": "markdown",
   "id": "04a006fc-a8b0-4d76-ae85-068ce98d7557",
   "metadata": {},
   "source": [
    "### Numerical Features"
   ]
  },
  {
   "cell_type": "code",
   "execution_count": 21,
   "id": "e69b7953-aaed-4e23-ba8c-ae660bef8346",
   "metadata": {},
   "outputs": [
    {
     "data": {
      "text/plain": [
       "['duration', 'net_sales', 'commision_(in_value)', 'age']"
      ]
     },
     "execution_count": 21,
     "metadata": {},
     "output_type": "execute_result"
    }
   ],
   "source": [
    "numerical"
   ]
  },
  {
   "cell_type": "code",
   "execution_count": 20,
   "id": "0eca8ff2-b3e4-4f37-b2a8-03ed2bec63f1",
   "metadata": {},
   "outputs": [
    {
     "data": {
      "text/html": [
       "<div>\n",
       "<style scoped>\n",
       "    .dataframe tbody tr th:only-of-type {\n",
       "        vertical-align: middle;\n",
       "    }\n",
       "\n",
       "    .dataframe tbody tr th {\n",
       "        vertical-align: top;\n",
       "    }\n",
       "\n",
       "    .dataframe thead th {\n",
       "        text-align: right;\n",
       "    }\n",
       "</style>\n",
       "<table border=\"1\" class=\"dataframe\">\n",
       "  <thead>\n",
       "    <tr style=\"text-align: right;\">\n",
       "      <th></th>\n",
       "      <th>count</th>\n",
       "      <th>mean</th>\n",
       "      <th>std</th>\n",
       "      <th>min</th>\n",
       "      <th>25%</th>\n",
       "      <th>50%</th>\n",
       "      <th>75%</th>\n",
       "      <th>max</th>\n",
       "    </tr>\n",
       "  </thead>\n",
       "  <tbody>\n",
       "    <tr>\n",
       "      <th>duration</th>\n",
       "      <td>38130.0</td>\n",
       "      <td>52.72</td>\n",
       "      <td>112.58</td>\n",
       "      <td>-2.0</td>\n",
       "      <td>11.0</td>\n",
       "      <td>25.0</td>\n",
       "      <td>57.00</td>\n",
       "      <td>4881.00</td>\n",
       "    </tr>\n",
       "    <tr>\n",
       "      <th>net_sales</th>\n",
       "      <td>38130.0</td>\n",
       "      <td>42.62</td>\n",
       "      <td>50.17</td>\n",
       "      <td>-389.0</td>\n",
       "      <td>19.0</td>\n",
       "      <td>29.0</td>\n",
       "      <td>50.00</td>\n",
       "      <td>666.00</td>\n",
       "    </tr>\n",
       "    <tr>\n",
       "      <th>commision_(in_value)</th>\n",
       "      <td>38130.0</td>\n",
       "      <td>10.58</td>\n",
       "      <td>20.38</td>\n",
       "      <td>0.0</td>\n",
       "      <td>0.0</td>\n",
       "      <td>0.0</td>\n",
       "      <td>11.88</td>\n",
       "      <td>262.76</td>\n",
       "    </tr>\n",
       "    <tr>\n",
       "      <th>age</th>\n",
       "      <td>38130.0</td>\n",
       "      <td>39.91</td>\n",
       "      <td>13.50</td>\n",
       "      <td>0.0</td>\n",
       "      <td>34.0</td>\n",
       "      <td>36.0</td>\n",
       "      <td>45.00</td>\n",
       "      <td>118.00</td>\n",
       "    </tr>\n",
       "  </tbody>\n",
       "</table>\n",
       "</div>"
      ],
      "text/plain": [
       "                        count   mean     std    min   25%   50%    75%  \\\n",
       "duration              38130.0  52.72  112.58   -2.0  11.0  25.0  57.00   \n",
       "net_sales             38130.0  42.62   50.17 -389.0  19.0  29.0  50.00   \n",
       "commision_(in_value)  38130.0  10.58   20.38    0.0   0.0   0.0  11.88   \n",
       "age                   38130.0  39.91   13.50    0.0  34.0  36.0  45.00   \n",
       "\n",
       "                          max  \n",
       "duration              4881.00  \n",
       "net_sales              666.00  \n",
       "commision_(in_value)   262.76  \n",
       "age                    118.00  "
      ]
     },
     "execution_count": 20,
     "metadata": {},
     "output_type": "execute_result"
    }
   ],
   "source": [
    "full_train[numerical].describe().round(2).T"
   ]
  }
 ],
 "metadata": {
  "kernelspec": {
   "display_name": "Python 3 (ipykernel)",
   "language": "python",
   "name": "python3"
  },
  "language_info": {
   "codemirror_mode": {
    "name": "ipython",
    "version": 3
   },
   "file_extension": ".py",
   "mimetype": "text/x-python",
   "name": "python",
   "nbconvert_exporter": "python",
   "pygments_lexer": "ipython3",
   "version": "3.7.11"
  }
 },
 "nbformat": 4,
 "nbformat_minor": 5
}
