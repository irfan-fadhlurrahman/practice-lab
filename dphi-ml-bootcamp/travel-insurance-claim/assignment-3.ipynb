{
 "cells": [
  {
   "cell_type": "code",
   "execution_count": 2,
   "id": "40544865-c56e-48c1-867f-c044fcf98f7d",
   "metadata": {},
   "outputs": [
    {
     "name": "stdout",
     "output_type": "stream",
     "text": [
      "--2022-04-19 20:34:01--  https://raw.githubusercontent.com/dphi-official/Datasets/master/travel_insurance/Training_set_label.csv\n",
      "Resolving raw.githubusercontent.com (raw.githubusercontent.com)... 185.199.110.133, 185.199.111.133, 185.199.108.133, ...\n",
      "Connecting to raw.githubusercontent.com (raw.githubusercontent.com)|185.199.110.133|:443... connected.\n",
      "HTTP request sent, awaiting response... 200 OK\n",
      "Length: 3568156 (3.4M) [text/plain]\n",
      "Saving to: ‘Training_set_label.csv’\n",
      "\n",
      "Training_set_label. 100%[===================>]   3.40M  1.56MB/s    in 2.2s    \n",
      "\n",
      "2022-04-19 20:34:04 (1.56 MB/s) - ‘Training_set_label.csv’ saved [3568156/3568156]\n",
      "\n"
     ]
    }
   ],
   "source": [
    "!wget https://raw.githubusercontent.com/dphi-official/Datasets/master/travel_insurance/Training_set_label.csv\n",
    "!mv Training_set_label.csv dataset"
   ]
  },
  {
   "cell_type": "code",
   "execution_count": 1,
   "id": "3c3a5df0-2f36-4b7b-af28-8d478cba1b79",
   "metadata": {},
   "outputs": [
    {
     "name": "stdout",
     "output_type": "stream",
     "text": [
      "/home/irfanfadh43/dphi-ml-bootcamp/travel-insurance-claim\n"
     ]
    }
   ],
   "source": [
    "!pwd"
   ]
  },
  {
   "cell_type": "code",
   "execution_count": 3,
   "id": "63295314-bc46-48d1-a2e6-4aff189779fa",
   "metadata": {},
   "outputs": [
    {
     "name": "stdout",
     "output_type": "stream",
     "text": [
      "Agency,Agency Type,Distribution Channel,Product Name,Duration,Destination,Net Sales,Commision (in value),Gender,Age,Claim\n",
      "CWT,Travel Agency,Online,Rental Vehicle Excess Insurance,61,UNITED KINGDOM,19.8,11.88,,29,0\n",
      "EPX,Travel Agency,Online,Cancellation Plan,93,NEW ZEALAND,63.0,0.0,,36,0\n",
      "EPX,Travel Agency,Online,2 way Comprehensive Plan,22,UNITED STATES,22.0,0.0,,25,0\n",
      "C2B,Airlines,Online,Silver Plan,14,SINGAPORE,54.5,13.63,M,24,0\n"
     ]
    }
   ],
   "source": [
    "!head -n 5 dataset/Training_set_label.csv"
   ]
  },
  {
   "cell_type": "code",
   "execution_count": null,
   "id": "903e18cc-b8bf-44a9-bcc6-649576e98be5",
   "metadata": {},
   "outputs": [],
   "source": []
  }
 ],
 "metadata": {
  "kernelspec": {
   "display_name": "Python 3 (ipykernel)",
   "language": "python",
   "name": "python3"
  },
  "language_info": {
   "codemirror_mode": {
    "name": "ipython",
    "version": 3
   },
   "file_extension": ".py",
   "mimetype": "text/x-python",
   "name": "python",
   "nbconvert_exporter": "python",
   "pygments_lexer": "ipython3",
   "version": "3.7.11"
  }
 },
 "nbformat": 4,
 "nbformat_minor": 5
}
